{
 "cells": [
  {
   "cell_type": "markdown",
   "metadata": {},
   "source": [
    "# LaptopでCustom Vision Serviceを動かしてみる\n",
    "\n",
    "- Main reference: https://docs.microsoft.com/ja-jp/azure/cognitive-services/custom-vision-service/export-model-python\n",
    "    - Export `model.py`, `label.txt` from [custom vision services](https://www.customvision.ai/)\n",
    "    - Put test images at `./test/` directory \n",
    "    - no GPU required\n"
   ]
  },
  {
   "cell_type": "code",
   "execution_count": 2,
   "metadata": {},
   "outputs": [],
   "source": [
    "## Library import\n",
    "import tensorflow as tf\n",
    "import os\n",
    "\n",
    "from PIL import Image\n",
    "import numpy as np\n",
    "import cv2\n",
    "import datetime"
   ]
  },
  {
   "cell_type": "markdown",
   "metadata": {},
   "source": [
    "## Some tools"
   ]
  },
  {
   "cell_type": "code",
   "execution_count": 3,
   "metadata": {},
   "outputs": [],
   "source": [
    "def convert_to_opencv(image):\n",
    "    # RGB -> BGR conversion is performed as well.\n",
    "    r,g,b = np.array(image).T\n",
    "    opencv_image = np.array([b,g,r]).transpose()\n",
    "    return opencv_image\n",
    "\n",
    "def crop_center(img,cropx,cropy):\n",
    "    h, w = img.shape[:2]\n",
    "    startx = w//2-(cropx//2)\n",
    "    starty = h//2-(cropy//2)\n",
    "    return img[starty:starty+cropy, startx:startx+cropx]\n",
    "\n",
    "def resize_down_to_1600_max_dim(image):\n",
    "    h, w = image.shape[:2]\n",
    "    if (h < 1600 and w < 1600):\n",
    "        return image\n",
    "\n",
    "    new_size = (1600 * w // h, 1600) if (h > w) else (1600, 1600 * h // w)\n",
    "    return cv2.resize(image, new_size, interpolation = cv2.INTER_LINEAR)\n",
    "\n",
    "def resize_to_256_square(image):\n",
    "    h, w = image.shape[:2]\n",
    "    return cv2.resize(image, (256, 256), interpolation = cv2.INTER_LINEAR)\n",
    "\n",
    "def update_orientation(image):\n",
    "    exif_orientation_tag = 0x0112\n",
    "    if hasattr(image, '_getexif'):\n",
    "        exif = image._getexif()\n",
    "        if (exif != None and exif_orientation_tag in exif):\n",
    "            orientation = exif.get(exif_orientation_tag, 1)\n",
    "            # orientation is 1 based, shift to zero based and flip/transpose based on 0-based values\n",
    "            orientation -= 1\n",
    "            if orientation >= 4:\n",
    "                image = image.transpose(Image.TRANSPOSE)\n",
    "            if orientation == 2 or orientation == 3 or orientation == 6 or orientation == 7:\n",
    "                image = image.transpose(Image.FLIP_TOP_BOTTOM)\n",
    "            if orientation == 1 or orientation == 2 or orientation == 5 or orientation == 6:\n",
    "                image = image.transpose(Image.FLIP_LEFT_RIGHT)\n",
    "    return image"
   ]
  },
  {
   "cell_type": "code",
   "execution_count": 4,
   "metadata": {},
   "outputs": [],
   "source": [
    "## Some setting\n",
    "WKDIR = \"./test/\"\n",
    "#IMAGE_FILE = \"IMG_0310.JPG\"\n",
    "#IMAGE_FILE = \"IMG_0318.JPG\"\n",
    "#IMAGE_FILE = \"IMG_0453.JPG\"\n",
    "#IMAGE_FILE = \"IMG_0455.JPG\"\n",
    "IMAGE_FILE = \"IMG_0459.JPG\"\n",
    "#IMAGE_FILE = \"IMG_0543.JPG\""
   ]
  },
  {
   "cell_type": "code",
   "execution_count": 5,
   "metadata": {},
   "outputs": [],
   "source": [
    "graph_def = tf.GraphDef()\n",
    "labels = []\n",
    "\n",
    "# These are set to the default names from exported models, update as needed.\n",
    "# exportモデルとlabelを読み込む\n",
    "filename = \"model.pb\"\n",
    "labels_filename = \"labels.txt\"\n",
    "\n",
    "# Import the TF graph\n",
    "with tf.gfile.GFile(filename, 'rb') as f:\n",
    "    graph_def.ParseFromString(f.read())\n",
    "    tf.import_graph_def(graph_def, name='')\n",
    "\n",
    "# labelを読み込む\n",
    "with open(labels_filename, 'rt') as lf:\n",
    "    for l in lf:\n",
    "        labels.append(l.strip())"
   ]
  },
  {
   "cell_type": "code",
   "execution_count": 6,
   "metadata": {},
   "outputs": [],
   "source": [
    "start_process = datetime.datetime.now()\n",
    "\n",
    "# Load from a file\n",
    "#imageFile = \"<path to your image file>\"\n",
    "imageFile = WKDIR+IMAGE_FILE\n",
    "image = Image.open(imageFile)\n",
    "\n",
    "# Update orientation based on EXIF tags, if the file has orientation info.\n",
    "image = update_orientation(image)\n",
    "\n",
    "# Convert to OpenCV format\n",
    "image = convert_to_opencv(image)"
   ]
  },
  {
   "cell_type": "markdown",
   "metadata": {},
   "source": [
    "## Conversion of image"
   ]
  },
  {
   "cell_type": "code",
   "execution_count": 7,
   "metadata": {},
   "outputs": [],
   "source": [
    "# If the image has either w or h greater than 1600 we resize it down respecting\n",
    "# aspect ratio such that the largest dimension is 1600\n",
    "image = resize_down_to_1600_max_dim(image)\n",
    "\n",
    "# We next get the largest center square\n",
    "h, w = image.shape[:2]\n",
    "min_dim = min(w,h)\n",
    "max_square_image = crop_center(image, min_dim, min_dim)\n",
    "\n",
    "# Resize that square down to 256x256\n",
    "augmented_image = resize_to_256_square(max_square_image)"
   ]
  },
  {
   "cell_type": "code",
   "execution_count": 8,
   "metadata": {},
   "outputs": [],
   "source": [
    "# Get the input size of the model\n",
    "with tf.Session() as sess:\n",
    "    input_tensor_shape = sess.graph.get_tensor_by_name('Placeholder:0').shape.as_list()\n",
    "network_input_size = input_tensor_shape[1]\n",
    "\n",
    "# Crop the center for the specified network_input_Size\n",
    "augmented_image = crop_center(augmented_image, network_input_size, network_input_size)"
   ]
  },
  {
   "cell_type": "markdown",
   "metadata": {},
   "source": [
    "## TensorFlowによる推定"
   ]
  },
  {
   "cell_type": "code",
   "execution_count": 9,
   "metadata": {},
   "outputs": [
    {
     "name": "stdout",
     "output_type": "stream",
     "text": [
      "Classified as: food\n",
      "\n",
      "city 9.350000254926272e-06\n",
      "food 0.9985092282295227\n",
      "forest 5.599999894911889e-07\n",
      "Elapsed time is 0:00:00.936587\n"
     ]
    }
   ],
   "source": [
    "# These names are part of the model and cannot be changed.\n",
    "output_layer = 'loss:0'\n",
    "input_node = 'Placeholder:0'\n",
    "\n",
    "with tf.Session() as sess:\n",
    "    try:\n",
    "        prob_tensor = sess.graph.get_tensor_by_name(output_layer)\n",
    "        ## Prediction\n",
    "        predictions, = sess.run(prob_tensor, {input_node: [augmented_image] })\n",
    "    except KeyError:\n",
    "        print (\"Couldn't find classification output layer: \" + output_layer + \".\")\n",
    "        print (\"Verify this a model exported from an Object Detection project.\")\n",
    "        exit(-1)\n",
    "    # Print the highest probability label\n",
    "    highest_probability_index = np.argmax(predictions)\n",
    "    print('Classified as: ' + labels[highest_probability_index])\n",
    "    print()\n",
    "\n",
    "    # Or you can print out all of the results mapping labels to probabilities.\n",
    "    label_index = 0\n",
    "    for p in predictions:\n",
    "        truncated_probablity = np.float64(np.round(p,8))\n",
    "        print (labels[label_index], truncated_probablity)\n",
    "        label_index += 1\n",
    "        \n",
    "process_time = datetime.datetime.now() - start_process\n",
    "print(\"Elapsed time is {}\".format(process_time))"
   ]
  },
  {
   "cell_type": "code",
   "execution_count": null,
   "metadata": {},
   "outputs": [],
   "source": []
  }
 ],
 "metadata": {
  "kernelspec": {
   "display_name": "Python 3",
   "language": "python",
   "name": "python3"
  },
  "language_info": {
   "codemirror_mode": {
    "name": "ipython",
    "version": 3
   },
   "file_extension": ".py",
   "mimetype": "text/x-python",
   "name": "python",
   "nbconvert_exporter": "python",
   "pygments_lexer": "ipython3",
   "version": "3.7.0"
  }
 },
 "nbformat": 4,
 "nbformat_minor": 2
}
